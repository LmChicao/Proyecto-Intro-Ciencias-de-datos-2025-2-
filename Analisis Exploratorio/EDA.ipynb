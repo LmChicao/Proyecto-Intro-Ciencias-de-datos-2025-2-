{
 "cells": [
  {
   "cell_type": "markdown",
   "id": "f88277a8",
   "metadata": {},
   "source": [
    "## **Analisis Exploratorio**\n",
    "### **Desigualdad Educativa en Chile:** Análisis de Resultados PAES por Tipo de Establecimiento\n",
    "\n",
    "#### **Nombres:** Lucas Chicao - Ninoska Cid - Isidora Gomez\n",
    "\n",
    "#### **Curso**: IMT-2200 - Introduccion a la Ciencias de Datos"
   ]
  },
  {
   "cell_type": "markdown",
   "id": "b51c2eee",
   "metadata": {},
   "source": [
    "___\n",
    "### **Contexto del proyecto:** \n",
    "La PAES es la prueba que miles de estudiantes chilenos rinden para acceder a la universidad, pero es un hecho que no todos cuentan con las mismas oportunidades educativas, ya que estas dependen del tipo de colegio en el que estudiaron.\n",
    "\n",
    "En este proyecto, nos proponemos investigar si efectivamente hay diferencias en los puntajes de la PAES entre estudiantes de colegios públicos, subvencionados y privados, y también medir la magnitud de esas posibles diferencias.\n"
   ]
  },
  {
   "cell_type": "markdown",
   "id": "999adeef",
   "metadata": {},
   "source": [
    "### **Preguntas a responder:**\n",
    "-¿Hay diferencias en los puntajes entre colegios públicos, subvencionados y privados?\n",
    "\n",
    "-¿Qué tipo de colegio tiene mejores resultados en promedio?\n",
    "\n",
    "-¿Qué tan grande es la brecha entre estos grupos?\n",
    "\n",
    "-¿Existe correlación entre el tipo de establecimiento y las probabilidades de acceso a universidades tradicionales?\n",
    "\n",
    "-¿Los resultados confirman las desigualdades educativas documentadas en otros estudios?\n",
    "\n",
    "-..."
   ]
  },
  {
   "cell_type": "markdown",
   "id": "b917d8ac",
   "metadata": {},
   "source": [
    "### **Datos a usar:**\n",
    "Los datos que usaremos en nuestro proyecto seran principalmente de base de datos de:\n",
    "\n",
    "-DEMRE\n",
    "\n",
    "-chiquillos si les parece aqui hay una base de datos para poder usar, si lo usamos eliminen este mensajito: https://www.kaggle.com/datasets/daniellopez01/admisionuescl"
   ]
  },
  {
   "cell_type": "markdown",
   "id": "5874e99f",
   "metadata": {},
   "source": [
    "### **Analisis Exploratorio:**\n",
    "En las siguientes lineas exploraremos los datos que ya obtuvimos y revisaremos como vamos en relacion con datos.\n",
    " "
   ]
  },
  {
   "cell_type": "code",
   "execution_count": null,
   "id": "9ca1b34d",
   "metadata": {},
   "outputs": [],
   "source": [
    "#LIBRERIAS A USAR\n",
    "import pandas as pd\n",
    "import seaborn as sns\n",
    "import matplotlib.pyplot as plt\n",
    "#..."
   ]
  },
  {
   "cell_type": "code",
   "execution_count": null,
   "id": "deed20c4",
   "metadata": {},
   "outputs": [],
   "source": [
    "#CARGAR DATOS Y DF\n"
   ]
  },
  {
   "cell_type": "code",
   "execution_count": null,
   "id": "25887f4b",
   "metadata": {},
   "outputs": [],
   "source": [
    "#EXPLORACION \n"
   ]
  },
  {
   "cell_type": "code",
   "execution_count": null,
   "id": "3b6e700f",
   "metadata": {},
   "outputs": [],
   "source": [
    "#LIMPIEZA DE DATOS\n"
   ]
  },
  {
   "cell_type": "code",
   "execution_count": null,
   "id": "4e7ef5f1",
   "metadata": {},
   "outputs": [],
   "source": [
    "#ESTADISTICAS DE DATOS (tipo promedios colegios, comunas con mas puntos, ...)\n"
   ]
  },
  {
   "cell_type": "code",
   "execution_count": null,
   "id": "260cf0a0",
   "metadata": {},
   "outputs": [],
   "source": [
    "#VISUALIZACION DE LOS DATOS\n"
   ]
  },
  {
   "cell_type": "markdown",
   "id": "c0d07a98",
   "metadata": {},
   "source": [
    "### **Conclusion:** \n",
    "En relacion con los datos que analizamos anteriormente podemos darnos cuenta que..."
   ]
  }
 ],
 "metadata": {
  "language_info": {
   "name": "python"
  }
 },
 "nbformat": 4,
 "nbformat_minor": 5
}
